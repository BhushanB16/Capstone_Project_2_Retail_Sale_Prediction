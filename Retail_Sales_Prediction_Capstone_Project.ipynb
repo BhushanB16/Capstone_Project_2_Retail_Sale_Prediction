{
  "nbformat": 4,
  "nbformat_minor": 0,
  "metadata": {
    "colab": {
      "private_outputs": true,
      "provenance": [],
      "collapsed_sections": [
        "vncDsAP0Gaoa",
        "FJNUwmbgGyua",
        "w6K7xa23Elo4",
        "yQaldy8SH6Dl",
        "mDgbUHAGgjLW",
        "O_i_v8NEhb9l",
        "HhfV-JJviCcP",
        "Y3lxredqlCYt",
        "3RnN4peoiCZX",
        "x71ZqKXriCWQ",
        "7hBIi_osiCS2",
        "JlHwYmJAmNHm",
        "35m5QtbWiB9F",
        "PoPl-ycgm1ru",
        "H0kj-8xxnORC",
        "nA9Y7ga8ng1Z",
        "PBTbrJXOngz2",
        "u3PMJOP6ngxN",
        "dauF4eBmngu3",
        "bKJF3rekwFvQ",
        "MSa1f5Uengrz",
        "GF8Ens_Soomf",
        "0wOQAZs5pc--",
        "K5QZ13OEpz2H",
        "lQ7QKXXCp7Bj",
        "448CDAPjqfQr",
        "KSlN3yHqYklG",
        "t6dVpIINYklI",
        "ijmpgYnKYklI",
        "-JiQyfWJYklI",
        "EM7whBJCYoAo",
        "fge-S5ZAYoAp",
        "85gYPyotYoAp",
        "RoGjAbkUYoAp",
        "4Of9eVA-YrdM",
        "iky9q4vBYrdO",
        "F6T5p64dYrdO",
        "y-Ehk30pYrdP",
        "bamQiAODYuh1",
        "QHF8YVU7Yuh3",
        "GwzvFGzlYuh3",
        "qYpmQ266Yuh3",
        "OH-pJp9IphqM",
        "bbFf2-_FphqN",
        "_ouA3fa0phqN",
        "Seke61FWphqN",
        "PIIx-8_IphqN",
        "t27r6nlMphqO",
        "r2jJGEOYphqO",
        "b0JNsNcRphqO",
        "BZR9WyysphqO",
        "jj7wYXLtphqO",
        "eZrbJ2SmphqO",
        "rFu4xreNphqO",
        "YJ55k-q6phqO",
        "gCFgpxoyphqP",
        "OVtJsKN_phqQ",
        "lssrdh5qphqQ",
        "U2RJ9gkRphqQ",
        "1M8mcRywphqQ",
        "tgIPom80phqQ",
        "JMzcOPDDphqR",
        "x-EpHcCOp1ci",
        "X_VqEhTip1ck",
        "8zGJKyg5p1ck",
        "PVzmfK_Ep1ck",
        "n3dbpmDWp1ck",
        "ylSl6qgtp1ck",
        "ZWILFDl5p1ck",
        "M7G43BXep1ck",
        "Ag9LCva-p1cl",
        "E6MkPsBcp1cl",
        "2cELzS2fp1cl",
        "3MPXvC8up1cl",
        "NC_X3p0fY2L0",
        "UV0SzAkaZNRQ",
        "YPEH6qLeZNRQ",
        "q29F0dvdveiT",
        "EXh0U9oCveiU",
        "22aHeOlLveiV",
        "g-ATYxFrGrvw",
        "Yfr_Vlr8HBkt",
        "8yEUt7NnHlrM",
        "tEA2Xm5dHt1r",
        "I79__PHVH19G",
        "Ou-I18pAyIpj",
        "fF3858GYyt-u",
        "4_0_7-oCpUZd",
        "hwyV_J3ipUZe",
        "3yB-zSqbpUZe",
        "dEUvejAfpUZe",
        "Fd15vwWVpUZf",
        "bn_IUdTipZyH",
        "49K5P_iCpZyH",
        "Nff-vKELpZyI",
        "kLW572S8pZyI",
        "dWbDXHzopZyI",
        "yLjJCtPM0KBk",
        "xiyOF9F70UgQ",
        "7wuGOrhz0itI",
        "id1riN9m0vUs",
        "578E2V7j08f6",
        "89xtkJwZ18nB",
        "67NQN5KX2AMe",
        "Iwf50b-R2tYG",
        "GMQiZwjn3iu7",
        "WVIkgGqN3qsr",
        "XkPnILGE3zoT",
        "Hlsf0x5436Go",
        "mT9DMSJo4nBL",
        "c49ITxTc407N",
        "OeJFEK0N496M",
        "9ExmJH0g5HBk",
        "cJNqERVU536h",
        "k5UmGsbsOxih",
        "T0VqWOYE6DLQ",
        "qBMux9mC6MCf",
        "-oLEiFgy-5Pf",
        "C74aWNz2AliB",
        "2DejudWSA-a0",
        "pEMng2IbBLp7",
        "rAdphbQ9Bhjc",
        "TNVZ9zx19K6k",
        "nqoHp30x9hH9",
        "rMDnDkt2B6du",
        "yiiVWRdJDDil",
        "1UUpS68QDMuG",
        "kexQrXU-DjzY",
        "T5CmagL3EC8N",
        "BhH2vgX9EjGr",
        "qjKvONjwE8ra",
        "P1XJ9OREExlT",
        "VFOzZv6IFROw",
        "TIqpNgepFxVj",
        "VfCC591jGiD4",
        "OB4l2ZhMeS1U",
        "ArJBuiUVfxKd",
        "4qY1EAkEfxKe",
        "PiV4Ypx8fxKe",
        "TfvqoZmBfxKf",
        "dJ2tPlVmpsJ0",
        "JWYfwnehpsJ1",
        "-jK_YjpMpsJ2",
        "HAih1iBOpsJ2",
        "zVGeBEFhpsJ2",
        "bmKjuQ-FpsJ3",
        "Fze-IPXLpx6K",
        "7AN1z2sKpx6M",
        "9PIHJqyupx6M",
        "_-qAgymDpx6N",
        "Z-hykwinpx6N",
        "h_CCil-SKHpo",
        "cBFFvTBNJzUa",
        "HvGl1hHyA_VK",
        "EyNgTHvd2WFk",
        "KH5McJBi2d8v",
        "iW_Lq9qf2h6X",
        "-Kee-DAl2viO",
        "gCX9965dhzqZ",
        "gIfDvo9L0UH2"
      ],
      "include_colab_link": true
    },
    "kernelspec": {
      "name": "python3",
      "display_name": "Python 3"
    },
    "language_info": {
      "name": "python"
    }
  },
  "cells": [
    {
      "cell_type": "markdown",
      "metadata": {
        "id": "view-in-github",
        "colab_type": "text"
      },
      "source": [
        "<a href=\"https://colab.research.google.com/github/BhushanB16/Capstone_Project_2_Retail_Sale_Prediction/blob/main/Retail_Sales_Prediction_Capstone_Project.ipynb\" target=\"_parent\"><img src=\"https://colab.research.google.com/assets/colab-badge.svg\" alt=\"Open In Colab\"/></a>"
      ]
    },
    {
      "cell_type": "markdown",
      "source": [
        "# **Project Name**    - Retail Sales Prediction - Predicting sales of a major store chain Rossmann\n",
        "\n"
      ],
      "metadata": {
        "id": "vncDsAP0Gaoa"
      }
    },
    {
      "cell_type": "markdown",
      "source": [
        "##### **Project Type**    - EDA/Regression\n",
        "##### **Contribution**    - Individual\n",
        "**Name -** Bhushan Suresh Borse"
      ],
      "metadata": {
        "id": "beRrZCGUAJYm"
      }
    },
    {
      "cell_type": "markdown",
      "source": [
        "# **Problem Statement**\n"
      ],
      "metadata": {
        "id": "yQaldy8SH6Dl"
      }
    },
    {
      "cell_type": "markdown",
      "source": [
        "Rossmann operates over 3,000 drug stores in 7 European countries. Currently, Rossmann store managers are tasked with predicting their daily sales for up to six weeks in advance. Store sales are influenced by many factors, including promotions, competition, school and state holidays, seasonality, and locality. With thousands of individual managers predicting sales based on their unique circumstances, the accuracy of results can be quite varied.\n",
        "You are provided with historical sales data for 1,115 Rossmann stores. The task is to forecast the \"Sales\" column for the test set. Note that some stores in the dataset were temporarily closed for refurbishment."
      ],
      "metadata": {
        "id": "DpeJGUA3kjGy"
      }
    },
    {
      "cell_type": "markdown",
      "source": [
        "# **Data Description -**"
      ],
      "metadata": {
        "id": "FJNUwmbgGyua"
      }
    },
    {
      "cell_type": "markdown",
      "source": [
        "**Rossmann Stores Data.csv** - historical data including Sales\n",
        "\n",
        "**store.csv** - supplemental information about the stores\n",
        "\n",
        "**Data fields**\n",
        "\n",
        "Most of the fields are self-explanatory. The following are descriptions for those that aren't.\n",
        "\n",
        "* Id - an Id that represents a (Store, Date) duple within the test set\n",
        "\n",
        "* Store - a unique Id for each store\n",
        "* Sales - the turnover for any given day (this is what you are predicting)\n",
        "* Customers - the number of customers on a given day\n",
        "* Open - an indicator for whether the store was open: 0 = closed, 1 = open\n",
        "* StateHoliday - indicates a state holiday. Normally all stores, with few exceptions, are closed on state holidays. Note that all schools are closed on public holidays and weekends. a = public holiday, b = Easter holiday, c = Christmas, 0 = None\n",
        "* SchoolHoliday - indicates if the (Store, Date) was affected by the closure of public schools\n",
        "* StoreType - differentiates between 4 different store models: a, b, c, d\n",
        "* Assortment - describes an assortment level: a = basic, b = extra, c = extended\n",
        "* CompetitionDistance - distance in meters to the nearest competitor store\n",
        "* CompetitionOpenSince[Month/Year] - gives the approximate year and month of the time the nearest competitor was opened\n",
        "* Promo - indicates whether a store is running a promo on that day\n",
        "* Promo2 - Promo2 is a continuing and consecutive promotion for some stores: 0 = store is not participating, 1 = store is participating\n",
        "* Promo2Since[Year/Week] - describes the year and calendar week when the store started participating in Promo2\n",
        "* PromoInterval - describes the consecutive intervals Promo2 is started, naming the months the promotion is started anew. E.g. \"Feb,May,Aug,Nov\" means each round starts in February, May, August, November of any given year for that store."
      ],
      "metadata": {
        "id": "F6v_1wHtG2nS"
      }
    },
    {
      "cell_type": "markdown",
      "source": [
        "# **GitHub Link -**"
      ],
      "metadata": {
        "id": "w6K7xa23Elo4"
      }
    },
    {
      "cell_type": "markdown",
      "source": [
        "Provide your GitHub Link here."
      ],
      "metadata": {
        "id": "h1o69JH3Eqqn"
      }
    },
    {
      "cell_type": "markdown",
      "source": [
        "# **General Guidelines** : -  "
      ],
      "metadata": {
        "id": "mDgbUHAGgjLW"
      }
    },
    {
      "cell_type": "markdown",
      "source": [
        "1.   Well-structured, formatted, and commented code is required. \n",
        "2.   Exception Handling, Production Grade Code & Deployment Ready Code will be a plus. Those students will be awarded some additional credits. \n",
        "     \n",
        "     The additional credits will have advantages over other students during Star Student selection.\n",
        "       \n",
        "             [ Note: - Deployment Ready Code is defined as, the whole .ipynb notebook should be executable in one go\n",
        "                       without a single error logged. ]\n",
        "\n",
        "3.   Each and every logic should have proper comments.\n",
        "4. You may add as many number of charts you want. Make Sure for each and every chart the following format should be answered.\n",
        "        \n",
        "\n",
        "```\n",
        "# Chart visualization code\n",
        "```\n",
        "            \n",
        "\n",
        "*   Why did you pick the specific chart?\n",
        "*   What is/are the insight(s) found from the chart?\n",
        "* Will the gained insights help creating a positive business impact? \n",
        "Are there any insights that lead to negative growth? Justify with specific reason.\n",
        "\n",
        "5. You have to create at least 15 logical & meaningful charts having important insights.\n",
        "\n",
        "\n",
        "[ Hints : - Do the Vizualization in  a structured way while following \"UBM\" Rule. \n",
        "\n",
        "U - Univariate Analysis,\n",
        "\n",
        "B - Bivariate Analysis (Numerical - Categorical, Numerical - Numerical, Categorical - Categorical)\n",
        "\n",
        "M - Multivariate Analysis\n",
        " ]\n",
        "\n",
        "\n",
        "\n",
        "\n",
        "\n",
        "6. You may add more ml algorithms for model creation. Make sure for each and every algorithm, the following format should be answered.\n",
        "\n",
        "\n",
        "*   Explain the ML Model used and it's performance using Evaluation metric Score Chart.\n",
        "\n",
        "\n",
        "*   Cross- Validation & Hyperparameter Tuning\n",
        "\n",
        "*   Have you seen any improvement? Note down the improvement with updates Evaluation metric Score Chart.\n",
        "\n",
        "*   Explain each evaluation metric's indication towards business and the business impact pf the ML model used.\n",
        "\n",
        "\n",
        "\n",
        "\n",
        "\n",
        "\n",
        "\n",
        "\n",
        "\n",
        "\n",
        "\n",
        "\n",
        "\n",
        "\n",
        "\n",
        "\n",
        "\n",
        "\n"
      ],
      "metadata": {
        "id": "ZrxVaUj-hHfC"
      }
    },
    {
      "cell_type": "markdown",
      "source": [
        "# ***Let's Begin !***"
      ],
      "metadata": {
        "id": "O_i_v8NEhb9l"
      }
    },
    {
      "cell_type": "markdown",
      "source": [
        "## ***1. Know Your Data***"
      ],
      "metadata": {
        "id": "HhfV-JJviCcP"
      }
    },
    {
      "cell_type": "markdown",
      "source": [
        "### Import Libraries"
      ],
      "metadata": {
        "id": "Y3lxredqlCYt"
      }
    },
    {
      "cell_type": "code",
      "source": [
        "# Import Libraries\n",
        "\n",
        "import pandas as pd\n",
        "import numpy as np\n",
        "import matplotlib.pyplot as plt\n",
        "import seaborn as sns\n",
        "import datetime\n",
        "import missingno as msno\n",
        "import matplotlib\n",
        "import matplotlib.pylab as pylab\n",
        "\n",
        "%matplotlib inline\n",
        "matplotlib.style.use('ggplot')\n",
        "sns.set_style('white')\n",
        "pylab.rcParams['figure.figsize'] = 8,6\n",
        "\n",
        "import math\n",
        "import statsmodels.api as sm\n",
        "from sklearn.model_selection import train_test_split\n",
        "from sklearn.linear_model import LinearRegression\n",
        "from sklearn.metrics import mean_squared_error\n",
        "from math import sqrt\n",
        "from sklearn.linear_model import BayesianRidge\n",
        "from sklearn.linear_model import LassoLars\n",
        "from sklearn.tree import DecisionTreeRegressor\n",
        "from sklearn.ensemble import RandomForestRegressor\n",
        "from sklearn.neighbors import KNeighborsRegressor\n",
        "from sklearn.model_selection import RandomizedSearchCV\n",
        "from sklearn.metrics import mean_squared_error\n",
        "from sklearn.metrics import r2_score\n",
        "from sklearn.preprocessing import MinMaxScaler\n",
        "from sklearn.linear_model import ElasticNet"
      ],
      "metadata": {
        "id": "M8Vqi-pPk-HR"
      },
      "execution_count": null,
      "outputs": []
    },
    {
      "cell_type": "code",
      "source": [
        "from google.colab import drive\n",
        "drive.mount('/content/drive')"
      ],
      "metadata": {
        "id": "y3RpdeaDaGrE"
      },
      "execution_count": null,
      "outputs": []
    },
    {
      "cell_type": "markdown",
      "source": [
        "### Dataset Loading"
      ],
      "metadata": {
        "id": "3RnN4peoiCZX"
      }
    },
    {
      "cell_type": "code",
      "source": [
        "# Load Dataset\n",
        "\n",
        "#Loading Rossman Dataset\n",
        "rossman_df= pd.read_csv('/content/drive/MyDrive/Data set/Rossmann Stores Data.csv', low_memory= False)"
      ],
      "metadata": {
        "id": "4CkvbW_SlZ_R"
      },
      "execution_count": null,
      "outputs": []
    },
    {
      "cell_type": "code",
      "source": [
        "#Loading Store Dataset\n",
        "store_df=pd.read_csv('/content/drive/MyDrive/Data set/store.csv', low_memory= False)"
      ],
      "metadata": {
        "id": "AAyE8zxsam0A"
      },
      "execution_count": null,
      "outputs": []
    },
    {
      "cell_type": "markdown",
      "source": [
        "### Dataset First View"
      ],
      "metadata": {
        "id": "x71ZqKXriCWQ"
      }
    },
    {
      "cell_type": "code",
      "source": [
        "# Dataset First Look\n",
        "\n",
        "rossman_df.head()"
      ],
      "metadata": {
        "id": "LWNFOSvLl09H"
      },
      "execution_count": null,
      "outputs": []
    },
    {
      "cell_type": "code",
      "source": [
        "rossman_df.tail()"
      ],
      "metadata": {
        "id": "ofR90T7ra4Zo"
      },
      "execution_count": null,
      "outputs": []
    },
    {
      "cell_type": "markdown",
      "source": [
        "### Dataset Rows & Columns count"
      ],
      "metadata": {
        "id": "7hBIi_osiCS2"
      }
    },
    {
      "cell_type": "code",
      "source": [
        "# Dataset Rows & Columns count\n",
        "\n",
        "print(f\"Number Of Rows {rossman_df.shape[0]}\")\n",
        "print(f\"Number Of Columns {rossman_df.shape[1]}\")"
      ],
      "metadata": {
        "id": "Kllu7SJgmLij"
      },
      "execution_count": null,
      "outputs": []
    },
    {
      "cell_type": "markdown",
      "source": [
        "### Dataset Information"
      ],
      "metadata": {
        "id": "JlHwYmJAmNHm"
      }
    },
    {
      "cell_type": "code",
      "source": [
        "#Checking info of data as data types and rows and cols\n",
        "\n",
        "rossman_df.info()\n"
      ],
      "metadata": {
        "id": "e9hRXRi6meOf"
      },
      "execution_count": null,
      "outputs": []
    },
    {
      "cell_type": "markdown",
      "source": [
        "#### Duplicate Values"
      ],
      "metadata": {
        "id": "35m5QtbWiB9F"
      }
    },
    {
      "cell_type": "code",
      "source": [
        "# Dataset Duplicate Value Count\n",
        "\n",
        "num_duplicates = rossman_df.duplicated().sum()\n",
        "print(f\"Number of Duplicate Values: {num_duplicates}\")"
      ],
      "metadata": {
        "id": "1sLdpKYkmox0"
      },
      "execution_count": null,
      "outputs": []
    },
    {
      "cell_type": "markdown",
      "source": [
        "#### Missing Values/Null Values"
      ],
      "metadata": {
        "id": "PoPl-ycgm1ru"
      }
    },
    {
      "cell_type": "code",
      "source": [
        "# Missing Values/Null Values Count\n",
        "\n",
        "#Checking Null Values\n",
        "\n",
        "rossman_df.isnull().sum()"
      ],
      "metadata": {
        "id": "GgHWkxvamxVg"
      },
      "execution_count": null,
      "outputs": []
    },
    {
      "cell_type": "code",
      "source": [
        "# Visualizing the missing values\n",
        "sns.heatmap(rossman_df.isnull(), cbar=False)\n",
        "plt.title('Missing Values Heatmap')\n",
        "plt.show()"
      ],
      "metadata": {
        "id": "3q5wnI3om9sJ"
      },
      "execution_count": null,
      "outputs": []
    },
    {
      "cell_type": "markdown",
      "source": [
        "### What did you know about your dataset?"
      ],
      "metadata": {
        "id": "H0kj-8xxnORC"
      }
    },
    {
      "cell_type": "markdown",
      "source": [
        "Answer Here\n",
        "\n",
        "The dataset contains information about historical sales data for 1,115 Rossmann stores.There are 1017209 rows in the dataset. The dataset has 9 columns that provide information about each stores,DayOfWeek,Date,Sales,Customers,Open,Promo,StateHoliday and SchoolHoliday.The dataset does not contains duplicate rows."
      ],
      "metadata": {
        "id": "gfoNAAC-nUe_"
      }
    },
    {
      "cell_type": "markdown",
      "source": [
        "**Summary Statastics Of Dataset**"
      ],
      "metadata": {
        "id": "HVwXJlfffmbY"
      }
    },
    {
      "cell_type": "code",
      "source": [
        "#Summary Statastics\n",
        "rossman_df.describe()"
      ],
      "metadata": {
        "id": "3MBMvtgaflF3"
      },
      "execution_count": null,
      "outputs": []
    },
    {
      "cell_type": "code",
      "source": [
        "#No. Of Stores in the Dataset\n",
        "rossman_df.Store.nunique()"
      ],
      "metadata": {
        "id": "jr-IQ7_wgQa_"
      },
      "execution_count": null,
      "outputs": []
    },
    {
      "cell_type": "code",
      "source": [
        "# Value_counts of StateHoliday Column\n",
        "rossman_df.StateHoliday.value_counts()"
      ],
      "metadata": {
        "id": "-7fPFnMOgT_H"
      },
      "execution_count": null,
      "outputs": []
    },
    {
      "cell_type": "code",
      "source": [
        "print(rossman_df['Date'].min(),'initial')\n",
        "print(rossman_df['Date'].max(),'final')"
      ],
      "metadata": {
        "id": "XYIJEkvTgT7g"
      },
      "execution_count": null,
      "outputs": []
    },
    {
      "cell_type": "markdown",
      "source": [
        "**This tells us we have a data of almost 3 years.**"
      ],
      "metadata": {
        "id": "yAkDD9PFgdiT"
      }
    },
    {
      "cell_type": "code",
      "source": [
        "# extract year, month, day and week of year from \"Date\"\n",
        "\n",
        "rossman_df['Date']=pd.to_datetime(rossman_df['Date'])\n",
        "rossman_df['Year'] = rossman_df['Date'].apply(lambda x: x.year)\n",
        "rossman_df['Month'] = rossman_df['Date'].apply(lambda x: x.month)\n",
        "rossman_df['Day'] = rossman_df['Date'].apply(lambda x: x.day)\n",
        "rossman_df['WeekOfYear'] = rossman_df['Date'].apply(lambda x: x.weekofyear)\n"
      ],
      "metadata": {
        "id": "dGlcPz5YgT41"
      },
      "execution_count": null,
      "outputs": []
    },
    {
      "cell_type": "code",
      "source": [
        "rossman_df.sort_values(by=['Date','Store'],inplace=True,ascending=[False,True])\n",
        "rossman_df.head(2)"
      ],
      "metadata": {
        "id": "jZ9xTR7wgseI"
      },
      "execution_count": null,
      "outputs": []
    },
    {
      "cell_type": "markdown",
      "source": [
        "## **EDA On Rossman Dataset**"
      ],
      "metadata": {
        "id": "nA9Y7ga8ng1Z"
      }
    },
    {
      "cell_type": "markdown",
      "source": [
        "### **Heatmap of the Rossman Dataset**"
      ],
      "metadata": {
        "id": "RXIgW-bChENY"
      }
    },
    {
      "cell_type": "code",
      "source": [
        "correlation_map = rossman_df[rossman_df.columns].corr()\n",
        "obj = np.array(correlation_map)\n",
        "obj[np.tril_indices_from(obj)] = False\n",
        "fig,ax= plt.subplots()\n",
        "fig.set_size_inches(15,10)\n",
        "sns.heatmap(correlation_map, mask=obj,vmax=.7, square=True,annot=True)\n"
      ],
      "metadata": {
        "id": "DnOaZdaE5Q5t"
      },
      "execution_count": null,
      "outputs": []
    },
    {
      "cell_type": "markdown",
      "source": [
        "**As we can see that in the graph given below that Stores mainly closed on Sunday**"
      ],
      "metadata": {
        "id": "rbMcNpS_hsEA"
      }
    },
    {
      "cell_type": "code",
      "source": [
        "sns.countplot(x='DayOfWeek',hue='Open',data=rossman_df)\n"
      ],
      "metadata": {
        "id": "cKORDPXKhzwU"
      },
      "execution_count": null,
      "outputs": []
    },
    {
      "cell_type": "markdown",
      "source": [
        "**Sales Are nearly doubled High When Promo is Running**"
      ],
      "metadata": {
        "id": "Rms9LJcZh_Aw"
      }
    },
    {
      "cell_type": "code",
      "source": [
        "#Impact of promo on sales\n",
        "Promo_sales = pd.DataFrame(rossman_df.groupby('Promo').agg({'Sales':'mean'}))\n",
        "sns.barplot(x=Promo_sales.index, y = Promo_sales['Sales'])\n"
      ],
      "metadata": {
        "id": "vBs6404-iMOC"
      },
      "execution_count": null,
      "outputs": []
    },
    {
      "cell_type": "markdown",
      "source": [
        "**As We can see that In the month of November and Specially in December Sales is increasing Rapidly every year on the christmas eve.**"
      ],
      "metadata": {
        "id": "pVnb2BnyiUTX"
      }
    },
    {
      "cell_type": "code",
      "source": [
        "sns.lineplot(x=\"Month\", y=\"Sales\",data=rossman_df)\n",
        "plt.show()"
      ],
      "metadata": {
        "id": "jN8-p7H6iMKm"
      },
      "execution_count": null,
      "outputs": []
    },
    {
      "cell_type": "code",
      "source": [
        "# Value Counts of SchoolHoliday Column\n",
        "rossman_df.SchoolHoliday.value_counts()"
      ],
      "metadata": {
        "id": "BPRuS77piMHr"
      },
      "execution_count": null,
      "outputs": []
    },
    {
      "cell_type": "code",
      "source": [
        "labels = 'Not-Affected' , 'Affected'\n",
        "sizes = rossman_df.SchoolHoliday.value_counts()\n",
        "colors = ['gold', 'silver']\n",
        "explode = (0.1, 0.0)\n",
        "plt.pie(sizes, explode=explode, labels=labels, colors=colors,\n",
        "        autopct='%1.1f%%', shadow=True, startangle=180)\n",
        "plt.axis('equal')\n",
        "plt.title(\"Sales Affected by Schoolholiday or Not ?\",fontsize=20)\n",
        "plt.plot()\n",
        "fig=plt.gcf()\n",
        "fig.set_size_inches(6,6)\n",
        "plt.show()"
      ],
      "metadata": {
        "id": "ydBvDPk6iMAV"
      },
      "execution_count": null,
      "outputs": []
    },
    {
      "cell_type": "markdown",
      "source": [
        "## **Transforming Variable StateHoliday**"
      ],
      "metadata": {
        "id": "XC79aFxaIUbS"
      }
    },
    {
      "cell_type": "code",
      "source": [
        "rossman_df[\"StateHoliday\"] = rossman_df[\"StateHoliday\"].map({0: 0, \"0\": 0, \"a\": 1, \"b\": 1, \"c\": 1})\n"
      ],
      "metadata": {
        "id": "SD4ifdksIaNw"
      },
      "execution_count": null,
      "outputs": []
    },
    {
      "cell_type": "code",
      "source": [
        "rossman_df.StateHoliday.value_counts()\n"
      ],
      "metadata": {
        "id": "9D1AFMXMIaEF"
      },
      "execution_count": null,
      "outputs": []
    },
    {
      "cell_type": "markdown",
      "source": [
        "**As we can see in the Piechart Sales affected by State Holiday is only 3% means Sales aren't afffected by State Holiday**"
      ],
      "metadata": {
        "id": "gKTr4YfwIiGS"
      }
    },
    {
      "cell_type": "code",
      "source": [
        "labels = 'Not-Affected' , 'Affected'\n",
        "sizes = rossman_df.StateHoliday.value_counts()\n",
        "colors = ['orange','green']\n",
        "explode = (0.1, 0.0)\n",
        "plt.pie(sizes, explode=explode, labels=labels, colors=colors,\n",
        "        autopct='%1.1f%%', shadow=True, startangle=180)\n",
        "plt.axis('equal')\n",
        "plt.title(\"Sales Affected by State holiday or Not ?\",fontsize=20)\n",
        "plt.plot()\n",
        "fig=plt.gcf()\n",
        "fig.set_size_inches(6,6)\n",
        "plt.show()"
      ],
      "metadata": {
        "id": "YffGbhSpInEL"
      },
      "execution_count": null,
      "outputs": []
    },
    {
      "cell_type": "markdown",
      "source": [
        "**As Sales isn't much affected by State Holiday so i'm removing this column**"
      ],
      "metadata": {
        "id": "V-owOue8IrcU"
      }
    },
    {
      "cell_type": "code",
      "source": [
        "rossman_df.drop('StateHoliday',inplace=True,axis=1)\n"
      ],
      "metadata": {
        "id": "gXVJ6tQwIux7"
      },
      "execution_count": null,
      "outputs": []
    },
    {
      "cell_type": "markdown",
      "source": [
        "**Histogram Representation of Sales. Here 0 is showing because most of the time store was closed.**"
      ],
      "metadata": {
        "id": "L1a67SYdIypI"
      }
    },
    {
      "cell_type": "code",
      "source": [
        "#distribution of sales\n",
        "fig, ax = plt.subplots()\n",
        "fig.set_size_inches(11, 7)\n",
        "sns.histplot(rossman_df['Sales'], kde=False, bins=40, ax=ax)\n",
        "plt.show()"
      ],
      "metadata": {
        "id": "ZAmn3yyMI2hp"
      },
      "execution_count": null,
      "outputs": []
    },
    {
      "cell_type": "markdown",
      "source": [
        "**Sales vs Customers**"
      ],
      "metadata": {
        "id": "zZqkgNbGJWIt"
      }
    },
    {
      "cell_type": "code",
      "source": [
        "#linear relation between sales and customers\n",
        "sns.lmplot(x= 'Sales' , y ='Customers',data=rossman_df, palette='seismic', height=5,aspect=1, line_kws={'color':'blue'});\n"
      ],
      "metadata": {
        "id": "9v0LaaX7JZC8"
      },
      "execution_count": null,
      "outputs": []
    },
    {
      "cell_type": "markdown",
      "source": [
        "## **Analysing the Store Dataset**"
      ],
      "metadata": {
        "id": "qWIjtqyTJuib"
      }
    },
    {
      "cell_type": "code",
      "source": [
        "store_df.head()"
      ],
      "metadata": {
        "id": "c88hHjjmJ3N5"
      },
      "execution_count": null,
      "outputs": []
    },
    {
      "cell_type": "code",
      "source": [
        "store_df.tail()\n"
      ],
      "metadata": {
        "id": "nDO7ydZAKUpC"
      },
      "execution_count": null,
      "outputs": []
    },
    {
      "cell_type": "markdown",
      "source": [
        "**Checking Information about Dataset**"
      ],
      "metadata": {
        "id": "VxsPX8n-KZgf"
      }
    },
    {
      "cell_type": "code",
      "source": [
        "# Dataset Rows & Columns count\n",
        "\n",
        "print(f\"Number Of Rows {store_df.shape[0]}\")\n",
        "print(f\"Number Of Columns {store_df.shape[1]}\")"
      ],
      "metadata": {
        "id": "eVLZnfU_KmT6"
      },
      "execution_count": null,
      "outputs": []
    },
    {
      "cell_type": "code",
      "source": [
        "#Checking info of data as data types and rows and cols\n",
        "store_df.info()"
      ],
      "metadata": {
        "id": "BxmRV6_NKuEM"
      },
      "execution_count": null,
      "outputs": []
    },
    {
      "cell_type": "code",
      "source": [
        "#Checking Null Values\n",
        "store_df.isnull().sum()"
      ],
      "metadata": {
        "id": "ZUjwnHmgKySh"
      },
      "execution_count": null,
      "outputs": []
    },
    {
      "cell_type": "markdown",
      "source": [
        "**Heatmap for null values**"
      ],
      "metadata": {
        "id": "zN0eTuuaK1yV"
      }
    },
    {
      "cell_type": "code",
      "source": [
        "# creating heatmap for null values\n",
        "plt.figure(figsize=(10,6))\n",
        "sns.heatmap(store_df.isnull(),yticklabels= False, cbar= False, cmap= 'gnuplot')\n"
      ],
      "metadata": {
        "id": "SfjRZDJwK5PT"
      },
      "execution_count": null,
      "outputs": []
    },
    {
      "cell_type": "markdown",
      "source": [
        "**Distribution Of Different Store Types**"
      ],
      "metadata": {
        "id": "heXgJihqK_ic"
      }
    },
    {
      "cell_type": "code",
      "source": [
        "labels = 'a' , 'b' , 'c' , 'd'\n",
        "sizes = store_df.StoreType.value_counts()\n",
        "colors = ['yellow', 'blue' , 'red' , 'orange']\n",
        "explode = (0.1, 0.0 , 0.15 , 0.0)\n",
        "plt.pie(sizes, explode=explode, labels=labels, colors=colors,\n",
        "        autopct='%1.1f%%', shadow=True, startangle=180)\n",
        "plt.axis('equal')\n",
        "plt.title(\"Distribution of different StoreTypes\")\n",
        "plt.plot()\n",
        "fig=plt.gcf()\n",
        "fig.set_size_inches(6,6)\n",
        "plt.show()"
      ],
      "metadata": {
        "id": "V69NXPA7LCD5"
      },
      "execution_count": null,
      "outputs": []
    },
    {
      "cell_type": "markdown",
      "source": [
        "## **Remove features with high percentages of missing values**"
      ],
      "metadata": {
        "id": "qbHnbpA3Le11"
      }
    },
    {
      "cell_type": "markdown",
      "source": [
        "**we can see that some features have a high percentage of missing values and they won't be accurate as indicators, so we will remove features with more than 30% missing values.**"
      ],
      "metadata": {
        "id": "oxJBvdcVLnpx"
      }
    },
    {
      "cell_type": "code",
      "source": [
        "# remove features\n",
        "store_df = store_df.drop(['CompetitionOpenSinceMonth', 'CompetitionOpenSinceYear','Promo2SinceWeek',\n",
        "                     'Promo2SinceYear', 'PromoInterval'], axis=1)"
      ],
      "metadata": {
        "id": "ESfZ7RByLmUn"
      },
      "execution_count": null,
      "outputs": []
    },
    {
      "cell_type": "markdown",
      "source": [
        "**Replace missing values in features with low percentages of missing values**"
      ],
      "metadata": {
        "id": "QJGiex1ZL9s8"
      }
    },
    {
      "cell_type": "code",
      "source": [
        "# CompetitionDistance is distance in meters to the nearest competitor store\n",
        "# let's first have a look at its distribution\n",
        "\n",
        "sns.histplot(store_df['CompetitionDistance'].dropna())\n",
        "plt.title(\"Distribution of Store Competition Distance\")\n",
        "plt.show()"
      ],
      "metadata": {
        "id": "AVZn1KBIMBgL"
      },
      "execution_count": null,
      "outputs": []
    },
    {
      "cell_type": "markdown",
      "source": [
        "**The distribution is right skewed, so we'll replace missing values with the median.**"
      ],
      "metadata": {
        "id": "wgbxfdGINRne"
      }
    },
    {
      "cell_type": "code",
      "source": [
        "# replace missing values in CompetitionDistance with median for the store dataset\n",
        "\n",
        "store_df.CompetitionDistance.fillna(store_df.CompetitionDistance.median(), inplace=True)\n"
      ],
      "metadata": {
        "id": "GHX5zTO4NXEh"
      },
      "execution_count": null,
      "outputs": []
    },
    {
      "cell_type": "markdown",
      "source": [
        "**Pairplot for Store Dataset**"
      ],
      "metadata": {
        "id": "oO8f1cL7NcA5"
      }
    },
    {
      "cell_type": "code",
      "source": [
        "#pairplot for store dataset\n",
        "sns.set_style(\"whitegrid\", {'axes.grid' : False})\n",
        "pp=sns.pairplot(store_df,hue='StoreType')\n",
        "pp.fig.set_size_inches(10,10);"
      ],
      "metadata": {
        "id": "2Ekh4frNNgQ6"
      },
      "execution_count": null,
      "outputs": []
    },
    {
      "cell_type": "markdown",
      "source": [
        "**Checking stores with their assortment type**"
      ],
      "metadata": {
        "id": "pdWQPHUWNvyI"
      }
    },
    {
      "cell_type": "code",
      "source": [
        "#checking stores with their assortment type \n",
        "sns.set_style(\"whitegrid\")\n",
        "fig, ax = plt.subplots()\n",
        "fig.set_size_inches(11, 7)\n",
        "store_type = sns.countplot(x='StoreType', hue='Assortment', data=store_df, palette=\"Set2\")\n",
        "\n",
        "for p in store_type.patches:\n",
        "    height = p.get_height()\n",
        "    store_type.annotate(f'{height}\\n', (p.get_x() + p.get_width() / 2, height), ha='center', va='bottom', color='black', size=10)\n",
        "\n",
        "plt.show()\n"
      ],
      "metadata": {
        "id": "vpi1k-ynN0v8"
      },
      "execution_count": null,
      "outputs": []
    },
    {
      "cell_type": "markdown",
      "source": [
        "**We can see that there is not such significant differences in these 3 years in terms of sales.**"
      ],
      "metadata": {
        "id": "lI0ZogDFQJMm"
      }
    },
    {
      "cell_type": "code",
      "source": [
        "sns.catplot(x='Year', y='Sales', hue='Year', data=rossman_df, height=4, aspect=4)\n"
      ],
      "metadata": {
        "id": "n3GoTWUwSvu0"
      },
      "execution_count": null,
      "outputs": []
    },
    {
      "cell_type": "markdown",
      "source": [
        "## **Merging Two Datasets**"
      ],
      "metadata": {
        "id": "LYxG7_XuScH-"
      }
    },
    {
      "cell_type": "code",
      "source": [
        "df = pd.merge(rossman_df, store_df, how='left', on='Store')\n",
        "df.head()"
      ],
      "metadata": {
        "id": "VVDm7JtzS9wR"
      },
      "execution_count": null,
      "outputs": []
    },
    {
      "cell_type": "code",
      "source": [
        "# Dataset Rows & Columns count\n",
        "\n",
        "print(f\"Number Of Rows {df.shape[0]}\")\n",
        "print(f\"Number Of Columns {df.shape[1]}\")"
      ],
      "metadata": {
        "id": "5CnnKNP9WynY"
      },
      "execution_count": null,
      "outputs": []
    },
    {
      "cell_type": "markdown",
      "source": [
        "# **EDA On Merged Dataset**"
      ],
      "metadata": {
        "id": "P_fOyq9vW8ee"
      }
    },
    {
      "cell_type": "markdown",
      "source": [
        "**Heatmap Of Merged Dataset**"
      ],
      "metadata": {
        "id": "XH4XkVLHXBit"
      }
    },
    {
      "cell_type": "code",
      "source": [
        "plt.subplots(figsize=(20,12))\n",
        "sns.heatmap(df.corr().abs(), annot=True)\n",
        "plt.savefig(\"heatmap.png\")\n",
        "\n",
        "from google.colab import files\n",
        "files.download('heatmap.png') # this line opens your documents in your pc to save your png\n"
      ],
      "metadata": {
        "id": "JfyJ8UU1W8AX"
      },
      "execution_count": null,
      "outputs": []
    },
    {
      "cell_type": "code",
      "source": [
        "df[\"Avg_Customer_Sales\"] = df.Sales/df.Customers\n"
      ],
      "metadata": {
        "id": "3bou2O79XaQY"
      },
      "execution_count": null,
      "outputs": []
    },
    {
      "cell_type": "code",
      "source": [
        "f, ax = plt.subplots(2, 3, figsize = (20,10))\n",
        "\n",
        "store_df.groupby(\"StoreType\")[\"Store\"].count().plot(kind = \"bar\", ax = ax[0, 0], title = \"Total StoreTypes in the Dataset\")\n",
        "df.groupby(\"StoreType\")[\"Sales\"].sum().plot(kind = \"bar\", ax = ax[0,1], title = \"Total Sales of the StoreTypes\")\n",
        "df.groupby(\"StoreType\")[\"Customers\"].sum().plot(kind = \"bar\", ax = ax[0,2], title = \"Total nr Customers of the StoreTypes\")\n",
        "df.groupby(\"StoreType\")[\"Sales\"].mean().plot(kind = \"bar\", ax = ax[1,0], title = \"Average Sales of StoreTypes\")\n",
        "df.groupby(\"StoreType\")[\"Avg_Customer_Sales\"].mean().plot(kind = \"bar\", ax = ax[1,1], title = \"Average Spending per Customer\")\n",
        "df.groupby(\"StoreType\")[\"Customers\"].mean().plot(kind = \"bar\", ax = ax[1,2], title = \"Average Customers per StoreType\")\n",
        "\n",
        "plt.subplots_adjust(hspace = 0.3)\n",
        "plt.show()"
      ],
      "metadata": {
        "id": "UIzG52hbXdcK"
      },
      "execution_count": null,
      "outputs": []
    },
    {
      "cell_type": "markdown",
      "source": [
        "**As we can see from the graphs, the StoreType A has the most stores, sales and customers. However the StoreType D has the best averages spendings per customers. StoreType B, with only 17 stores has the most average customers.**"
      ],
      "metadata": {
        "id": "ikBEdDG5XkBp"
      }
    },
    {
      "cell_type": "markdown",
      "source": [
        "**Lets go ahead with the promotions**"
      ],
      "metadata": {
        "id": "5V7DFhBElBvX"
      }
    },
    {
      "cell_type": "code",
      "source": [
        "sns.catplot(data=df, x=\"Month\", y=\"Sales\", col='Promo', hue='Promo2', row=\"Year\", kind=\"strip\")             \n",
        "             \n",
        "# So, of course, if the stores are having promotion the sells are higher.\n",
        "# Overall the store promotions sellings are also higher than the seasionality promotions (Promo2). However I can't see no yearly trend. \n"
      ],
      "metadata": {
        "id": "NcBCo_ThXnur"
      },
      "execution_count": null,
      "outputs": []
    },
    {
      "cell_type": "markdown",
      "source": [
        "**As We can see that when the promo is running Sales are high**"
      ],
      "metadata": {
        "id": "UZzICUVana_N"
      }
    },
    {
      "cell_type": "code",
      "source": [
        "sns.catplot(data=df, x=\"DayOfWeek\", y=\"Sales\", hue=\"Promo\", kind=\"bar\")\n"
      ],
      "metadata": {
        "id": "ccCWOJ7KnY_s"
      },
      "execution_count": null,
      "outputs": []
    },
    {
      "cell_type": "code",
      "source": [
        "print(\"\"\"So, no promotion in the weekend. However, the sales are very high, if the stores have promotion. \n",
        "The Sales are going crazy on Sunday. No wonder.\"\"\")\n",
        "print(\"There are\", df[(df.Open == 1) & (df.DayOfWeek == 7)].Store.unique().shape[0], \"stores opend on sundays\")    \n"
      ],
      "metadata": {
        "id": "_jW2FdvVn4ok"
      },
      "execution_count": null,
      "outputs": []
    },
    {
      "cell_type": "markdown",
      "source": [
        "**Let's see the trends on a yearly basis.**"
      ],
      "metadata": {
        "id": "JofGjLUhn8X7"
      }
    },
    {
      "cell_type": "code",
      "source": [
        "sns.catplot(data=df, x=\"Month\", y=\"Sales\", col=\"Year\", hue=\"StoreType\", kind=\"box\")\n"
      ],
      "metadata": {
        "id": "414mWY0WrcBq"
      },
      "execution_count": null,
      "outputs": []
    },
    {
      "cell_type": "markdown",
      "source": [
        "**What about the Competition Distance. What kind of inpact does this have on the sales.**"
      ],
      "metadata": {
        "id": "U2apmsqytJ05"
      }
    },
    {
      "cell_type": "code",
      "source": [
        "df.CompetitionDistance.describe()\n",
        "# The obsverations are continous numbers, so we need to convert them into a categories. Lets a create a new variable.\n",
        "df[\"CompetitionDistance_Cat\"] = pd.cut(df[\"CompetitionDistance\"], 5)\n"
      ],
      "metadata": {
        "id": "XvsMbTMjtRUo"
      },
      "execution_count": null,
      "outputs": []
    },
    {
      "cell_type": "code",
      "source": [
        "f, ax = plt.subplots(1,2, figsize = (15,5))\n",
        "\n",
        "df.groupby(by = \"CompetitionDistance_Cat\").Sales.mean().plot(kind = \"bar\", title = \"Average Total Sales by Competition Distance\", ax = ax[0])\n",
        "df.groupby(by = \"CompetitionDistance_Cat\").Customers.mean().plot(kind = \"bar\", title = \"Average Total Customers by Competition Distance\", ax = ax[1])\n",
        "\n",
        "# It is pretty clear. If the competions is very far away, the stores are performing better (sales and customers)\n"
      ],
      "metadata": {
        "id": "YBXCqAzttVUV"
      },
      "execution_count": null,
      "outputs": []
    },
    {
      "cell_type": "code",
      "source": [
        "df.drop(['Avg_Customer_Sales','CompetitionDistance_Cat'],axis=1,inplace=True)\n"
      ],
      "metadata": {
        "id": "fYQIBvsstcrD"
      },
      "execution_count": null,
      "outputs": []
    },
    {
      "cell_type": "markdown",
      "source": [
        "**Box plot shows that we have a very high outliers in sales**"
      ],
      "metadata": {
        "id": "8Z-mAreUtfZz"
      }
    },
    {
      "cell_type": "code",
      "source": [
        "#checking outliers in sales\n",
        "sns.boxplot(rossman_df['Sales'])"
      ],
      "metadata": {
        "id": "lClff7AWtlDf"
      },
      "execution_count": null,
      "outputs": []
    },
    {
      "cell_type": "markdown",
      "source": [
        "**Removing Outliers Of Sales Column**"
      ],
      "metadata": {
        "id": "SO59lZ3ettw2"
      }
    },
    {
      "cell_type": "code",
      "source": [
        "#removing outliers\n",
        "def remove_outlier(df_in, col_name):\n",
        "    q1 = df_in[col_name].quantile(0.25)\n",
        "    q3 = df_in[col_name].quantile(0.75)\n",
        "    iqr = q3-q1 #Interquartile range\n",
        "    fence_low  = q1-1.5*iqr\n",
        "    fence_high = q3+1.5*iqr\n",
        "    df_out = df_in.loc[(df_in[col_name] > fence_low) & (df_in[col_name] < fence_high)]\n",
        "    return df_out\n"
      ],
      "metadata": {
        "id": "aYv3yTM3tyPe"
      },
      "execution_count": null,
      "outputs": []
    },
    {
      "cell_type": "code",
      "source": [
        "# defining new variable after removing outliers\n",
        "df= remove_outlier(df, 'Sales')\n"
      ],
      "metadata": {
        "id": "Tg0GVDipt27O"
      },
      "execution_count": null,
      "outputs": []
    },
    {
      "cell_type": "markdown",
      "source": [
        "# **Conclusion of the analysis:**"
      ],
      "metadata": {
        "id": "HYKA_6Ict8C0"
      }
    },
    {
      "cell_type": "markdown",
      "source": [
        "Sales are highly correlated to number of Customers.\n",
        "\n",
        "The most selling and crowded store type is A.\n",
        "\n",
        "StoreType B has the lowest Average Sales per Customer. So i think customers visit this type only for small things.\n",
        "\n",
        "StoreTybe D had the highest buyer cart.\n",
        "\n",
        "Promo runs only in weekdays.\n",
        "\n",
        "For all stores, Promotion leads to increase in Sales and Customers both.\n",
        "\n",
        "More stores are opened during School holidays than State holidays.\n",
        "\n",
        "The stores which are opened during School Holiday have more sales than normal days.\n",
        "\n",
        "Sales are increased during Chirstmas week, this might be due to the fact that people buy more beauty products during a Christmas celebration.\n",
        "\n",
        "Promo2 doesnt seems to be correlated to any significant change in the sales amount.\n",
        "\n",
        "Absence of values in features CompetitionOpenSinceYear/Month doesn’t indicate the absence of competition as CompetitionDistance values are not null where the other two values are null."
      ],
      "metadata": {
        "id": "ZmgpVu-4uEV6"
      }
    },
    {
      "cell_type": "markdown",
      "source": [
        "### **Drop Subsets Of Data Where Might Cause Bias**"
      ],
      "metadata": {
        "id": "qhjrS556uj7B"
      }
    },
    {
      "cell_type": "code",
      "source": [
        "# where stores are closed, they won't generate sales, so we will remove that part of the dataset\n",
        "df = df[df.Open != 0]\n"
      ],
      "metadata": {
        "id": "6bTP-7pXt6mV"
      },
      "execution_count": null,
      "outputs": []
    },
    {
      "cell_type": "code",
      "source": [
        "# Open isn't a variable anymore, so we'll drop it too\n",
        "df = df.drop('Open', axis=1)\n"
      ],
      "metadata": {
        "id": "TEjxMN-XuwGZ"
      },
      "execution_count": null,
      "outputs": []
    },
    {
      "cell_type": "code",
      "source": [
        "# Check if there's any opened store with zero sales\n",
        "df[df.Sales == 0]['Store'].sum()\n"
      ],
      "metadata": {
        "id": "LX9eSWyCuwC7"
      },
      "execution_count": null,
      "outputs": []
    },
    {
      "cell_type": "code",
      "source": [
        "# see the percentage of open stored with zero sales\n",
        "df[df.Sales == 0]['Sales'].sum()/df.Sales.sum()\n"
      ],
      "metadata": {
        "id": "7SJQuM5Hu3hR"
      },
      "execution_count": null,
      "outputs": []
    },
    {
      "cell_type": "code",
      "source": [
        "# remove this part of data to avoid bias\n",
        "df = df[df.Sales != 0]\n"
      ],
      "metadata": {
        "id": "3p8QjeEyu5pk"
      },
      "execution_count": null,
      "outputs": []
    },
    {
      "cell_type": "code",
      "source": [
        "df_new=df.copy()\n"
      ],
      "metadata": {
        "id": "7UYoDED-u5mB"
      },
      "execution_count": null,
      "outputs": []
    },
    {
      "cell_type": "code",
      "source": [
        "df_new = pd.get_dummies(df_new,columns=['StoreType','Assortment'])\n"
      ],
      "metadata": {
        "id": "7v4l2-J8u5jY"
      },
      "execution_count": null,
      "outputs": []
    },
    {
      "cell_type": "code",
      "source": [
        "df_new.head()\n"
      ],
      "metadata": {
        "id": "z8-vPYVuvEh7"
      },
      "execution_count": null,
      "outputs": []
    },
    {
      "cell_type": "markdown",
      "source": [
        "**From plot it can be sen that most of the sales have been on 1st and last day of week**"
      ],
      "metadata": {
        "id": "zDqgE0wPvJsF"
      }
    },
    {
      "cell_type": "code",
      "source": [
        "#plot for sales in terms of days ofthe week\n",
        "plt.figure(figsize=(15,8))\n",
        "sns.barplot(x='DayOfWeek', y='Sales' ,data=df_new); \n"
      ],
      "metadata": {
        "id": "zTY9aa_VvOUy"
      },
      "execution_count": null,
      "outputs": []
    },
    {
      "cell_type": "markdown",
      "source": [
        "**Setting Features and Target Variables**"
      ],
      "metadata": {
        "id": "KgYOT1p1vVz1"
      }
    },
    {
      "cell_type": "code",
      "source": [
        "X = df_new.drop(['Sales','Store','Date','Year'] , axis = 1)\n",
        "y= df_new.Sales\n"
      ],
      "metadata": {
        "id": "3Y8b-MTsvVdc"
      },
      "execution_count": null,
      "outputs": []
    },
    {
      "cell_type": "code",
      "source": [
        "X.shape\n"
      ],
      "metadata": {
        "id": "WcVrrquvvb9w"
      },
      "execution_count": null,
      "outputs": []
    },
    {
      "cell_type": "code",
      "source": [
        "X.head()"
      ],
      "metadata": {
        "id": "JVMvRDMvvgZY"
      },
      "execution_count": null,
      "outputs": []
    },
    {
      "cell_type": "code",
      "source": [
        "y.head()"
      ],
      "metadata": {
        "id": "sEKKqxa-vkxc"
      },
      "execution_count": null,
      "outputs": []
    },
    {
      "cell_type": "markdown",
      "source": [
        "**Splitting Dataset Into Training Set and Test Set**"
      ],
      "metadata": {
        "id": "9w7N77T-vm1G"
      }
    },
    {
      "cell_type": "code",
      "source": [
        "X_train,X_test,y_train,y_test = train_test_split(X,y,test_size=0.3, random_state=0)\n"
      ],
      "metadata": {
        "id": "JKnioYyPvkt8"
      },
      "execution_count": null,
      "outputs": []
    },
    {
      "cell_type": "code",
      "source": [
        "columns=X_train.columns\n"
      ],
      "metadata": {
        "id": "JA7v6Dn2vssj"
      },
      "execution_count": null,
      "outputs": []
    },
    {
      "cell_type": "markdown",
      "source": [
        "# **Implementing Supervised Machine Learning algorithms.**"
      ],
      "metadata": {
        "id": "I9quMz2JirQl"
      }
    },
    {
      "cell_type": "markdown",
      "source": [
        "## **1. Linear Regression (OLS)**"
      ],
      "metadata": {
        "id": "EH6WdbQqi0IC"
      }
    },
    {
      "cell_type": "code",
      "source": [
        "# Transforming data\n",
        "scaler = MinMaxScaler()\n",
        "X_train = scaler.fit_transform(X_train)\n",
        "X_test = scaler.transform(X_test)"
      ],
      "metadata": {
        "id": "cFZOcB09i_GT"
      },
      "execution_count": null,
      "outputs": []
    },
    {
      "cell_type": "code",
      "source": [
        "# Fitting Multiple Linear Regression to the Training set\n",
        "regressor = LinearRegression()\n",
        "regressor.fit(X_train, y_train)"
      ],
      "metadata": {
        "id": "Lm312vlpi_9c"
      },
      "execution_count": null,
      "outputs": []
    },
    {
      "cell_type": "code",
      "source": [
        "regressor.intercept_"
      ],
      "metadata": {
        "id": "L7jxFWu9jCs3"
      },
      "execution_count": null,
      "outputs": []
    },
    {
      "cell_type": "code",
      "source": [
        "regressor.coef_\n"
      ],
      "metadata": {
        "id": "WQCu1uekjFVU"
      },
      "execution_count": null,
      "outputs": []
    },
    {
      "cell_type": "code",
      "source": [
        "y_pred_train = regressor.predict(X_train)"
      ],
      "metadata": {
        "id": "UXNIKPQ4jIM5"
      },
      "execution_count": null,
      "outputs": []
    },
    {
      "cell_type": "code",
      "source": [
        "# Predicting the Test set results\n",
        "y_pred = regressor.predict(X_test)\n"
      ],
      "metadata": {
        "id": "mM7KhuQkjLFi"
      },
      "execution_count": null,
      "outputs": []
    },
    {
      "cell_type": "code",
      "source": [
        "mean_squared_error(y_test, y_pred)\n"
      ],
      "metadata": {
        "id": "3sigZGsijLCD"
      },
      "execution_count": null,
      "outputs": []
    },
    {
      "cell_type": "code",
      "source": [
        "# Test performance\n",
        "math.sqrt(mean_squared_error(y_test, y_pred))\n"
      ],
      "metadata": {
        "id": "0Kcu9ZF5jK_R"
      },
      "execution_count": null,
      "outputs": []
    },
    {
      "cell_type": "code",
      "source": [
        "train_score_1=regressor.score(X_train,y_train)\n",
        "train_score_1"
      ],
      "metadata": {
        "id": "IqYrhJ3EjTqt"
      },
      "execution_count": null,
      "outputs": []
    },
    {
      "cell_type": "code",
      "source": [
        "test_score_1=regressor.score(X_test,y_test)\n",
        "test_score_1\n"
      ],
      "metadata": {
        "id": "gAC1bbWGjTnK"
      },
      "execution_count": null,
      "outputs": []
    },
    {
      "cell_type": "code",
      "source": [
        "#storing 100 observations for analysis\n",
        "simple_lr_pred = y_pred[:100]\n",
        "simple_lr_real = y_test[:100]\n",
        "dataset_lr = pd.DataFrame({'Real':simple_lr_real,'PredictedLR':simple_lr_pred}) #storing these values into dataframe\n"
      ],
      "metadata": {
        "id": "-E3Eb5V2jK8k"
      },
      "execution_count": null,
      "outputs": []
    },
    {
      "cell_type": "code",
      "source": [
        "#storing absolute diffrences between actual sales price and predicted\n",
        "dataset_lr['diff']=(dataset_lr['Real']-dataset_lr['PredictedLR']).abs()\n"
      ],
      "metadata": {
        "id": "d_6tAarqjch8"
      },
      "execution_count": null,
      "outputs": []
    },
    {
      "cell_type": "code",
      "source": [
        "#visualising our predictions\n",
        "sns.lmplot(x='Real', y='PredictedLR', data=dataset_lr, line_kws={'color': 'black'});\n"
      ],
      "metadata": {
        "id": "hZWYn8vhjcec"
      },
      "execution_count": null,
      "outputs": []
    },
    {
      "cell_type": "markdown",
      "source": [
        "## **Inferences On Linear Regression Coefficients**"
      ],
      "metadata": {
        "id": "F7W7vnaOjk4M"
      }
    },
    {
      "cell_type": "code",
      "source": [
        "X = sm.add_constant(X) ## let's add an intercept (beta_0) to our model\n",
        "model = sm.OLS(y, X).fit() ## sm.OLS(output, input)\n",
        "predictions = model.predict(X)\n",
        "\n",
        "# Print out the statistics\n",
        "model.summary()\n"
      ],
      "metadata": {
        "id": "YZxQ3hsWjcb9"
      },
      "execution_count": null,
      "outputs": []
    },
    {
      "cell_type": "markdown",
      "source": [
        "**Warnings:**\n",
        "\n",
        "[1] Standard Errors assume that the covariance matrix of the errors is correctly specified.\n",
        "\n",
        "[2] The smallest eigenvalue is 1.15e-26. This might indicate that there are\n",
        "strong multicollinearity problems or that the design matrix is singular.\n"
      ],
      "metadata": {
        "id": "iqi5Hjj9jxJS"
      }
    },
    {
      "cell_type": "markdown",
      "source": [
        "## **2. LARS Lasso Regression**"
      ],
      "metadata": {
        "id": "Ae96WA_Mj9RP"
      }
    },
    {
      "cell_type": "code",
      "source": [
        "las = LassoLars(alpha=0.3, fit_intercept=False, normalize=True)\n",
        "lasreg = las.fit(X_train, y_train)\n"
      ],
      "metadata": {
        "id": "N1Xac6xWjcZI"
      },
      "execution_count": null,
      "outputs": []
    },
    {
      "cell_type": "code",
      "source": [
        "def rmse(x, y):\n",
        "    return sqrt(mean_squared_error(x, y))\n",
        "\n",
        "# definte MAPE function\n",
        "def mape(x, y): \n",
        "    return np.mean(np.abs((x - y) / x)) * 100\n",
        "\n",
        "train_score_2=lasreg.score(X_train, y_train)\n",
        "test_score_2=lasreg.score(X_test, y_test)\n",
        "\n",
        "print(\"Regresion Model Score\" , \":\" , train_score_2 , \",\" ,\n",
        "      \"Out of Sample Test Score\" ,\":\" , test_score_2)\n",
        "\n",
        "y_predicted = lasreg.predict(X_train)\n",
        "y_test_predicted = lasreg.predict(X_test)\n",
        "\n",
        "print(\"Training RMSE\", \":\", rmse(y_train, y_predicted),\n",
        "      \"Testing RMSE\", \":\", rmse(y_test, y_test_predicted))\n",
        "print(\"Training MAPE\", \":\", mape(y_train, y_predicted),\n",
        "      \"Testing MAPE\", \":\", mape(y_test, y_test_predicted))\n"
      ],
      "metadata": {
        "id": "sW2uEdqQjcWW"
      },
      "execution_count": null,
      "outputs": []
    },
    {
      "cell_type": "markdown",
      "source": [
        "## **3. Decision Tree Regression**"
      ],
      "metadata": {
        "id": "XChrpFO6kT8v"
      }
    },
    {
      "cell_type": "code",
      "source": [
        "tree = DecisionTreeRegressor()\n",
        "treereg = tree.fit(X_train, y_train)\n"
      ],
      "metadata": {
        "id": "s29pH2-fkQbC"
      },
      "execution_count": null,
      "outputs": []
    },
    {
      "cell_type": "code",
      "source": [
        "train_score_3=treereg.score(X_train, y_train)\n",
        "test_score_3=treereg.score(X_test, y_test)\n",
        "\n",
        "print(\"Regresion Model Score\" , \":\" , train_score_3 , \",\" ,\n",
        "      \"Test Score\" ,\":\" , test_score_3)\n",
        "\n",
        "y_predicted = treereg.predict(X_train)\n",
        "y_test_predicted = treereg.predict(X_test)\n",
        "print(\"Training RMSE\", \":\", rmse(y_train, y_predicted),\n",
        "      \"Testing RMSE\", \":\", rmse(y_test, y_test_predicted))\n",
        "print(\"Training MAPE\", \":\", mape(y_train, y_predicted),\n",
        "      \"Testing MAPE\", \":\", mape(y_test, y_test_predicted))\n"
      ],
      "metadata": {
        "id": "I1EeVtcdkQX3"
      },
      "execution_count": null,
      "outputs": []
    },
    {
      "cell_type": "markdown",
      "source": [
        "## **Decision Tree With Hyper Parameter Tuning**"
      ],
      "metadata": {
        "id": "7UhJz9ApkjFA"
      }
    },
    {
      "cell_type": "code",
      "source": [
        "# #another script that takes toooo long, to find the right parameters for tree\n",
        "# tree = DecisionTreeRegressor()\n",
        "\n",
        "# params = {\n",
        "#          'min_samples_split':[2,3,5,7],\n",
        "#          'min_samples_leaf':[6,8,10],\n",
        "#          }\n",
        "\n",
        "# grid = RandomizedSearchCV(estimator=rfr,param_distributions=params,verbose=True,cv=10)\n",
        "# #choosing 10 K-Folds makes sure i went through all of the data and didn't miss any pattern.\n",
        "\n",
        "# grid.fit(X_train, y_train)\n",
        "# grid.best_params_\n"
      ],
      "metadata": {
        "id": "ptGRL2tYkQVJ"
      },
      "execution_count": null,
      "outputs": []
    },
    {
      "cell_type": "markdown",
      "source": [
        "**I trained Model with hyper parameters..to not run everytime i record the result**\n",
        "\n",
        "**Here are our best parameters for Decision Tree**\n",
        "\n",
        "**{ min_samples_split=5,min_samples_leaf=8 }**"
      ],
      "metadata": {
        "id": "1sakAaMqksY7"
      }
    },
    {
      "cell_type": "code",
      "source": [
        "tree = DecisionTreeRegressor(min_samples_leaf=8,min_samples_split=5)\n",
        "treereg = tree.fit(X_train, y_train)\n"
      ],
      "metadata": {
        "id": "LUDgceV3kps9"
      },
      "execution_count": null,
      "outputs": []
    },
    {
      "cell_type": "code",
      "source": [
        "train_score_4=treereg.score(X_train, y_train)\n",
        "test_score_4=treereg.score(X_test, y_test)\n",
        "\n",
        "print(\"Regresion Model Score\" , \":\" , train_score_4 , \",\" ,\n",
        "      \"Test Score\" ,\":\" , test_score_4)\n",
        "\n",
        "y_predicted = treereg.predict(X_train)\n",
        "y_test_predicted = treereg.predict(X_test)\n",
        "print(\"Training RMSE\", \":\", rmse(y_train, y_predicted),\n",
        "      \"Testing RMSE\", \":\", rmse(y_test, y_test_predicted))\n",
        "print(\"Training MAPE\", \":\", mape(y_train, y_predicted),\n",
        "      \"Testing MAPE\", \":\", mape(y_test, y_test_predicted))\n"
      ],
      "metadata": {
        "id": "fLDCA_CPkQST"
      },
      "execution_count": null,
      "outputs": []
    },
    {
      "cell_type": "code",
      "source": [
        "#storing 100 observations for analysis\n",
        "dc_pred = y_test_predicted[:100]\n",
        "dc_real = y_test[:100]\n",
        "dataset_dc = pd.DataFrame({'Real':dc_real,'PredictedDC':dc_pred}) #storing these values into dataframe\n"
      ],
      "metadata": {
        "id": "VC07X0ouk9fw"
      },
      "execution_count": null,
      "outputs": []
    },
    {
      "cell_type": "code",
      "source": [
        "#storing absolute diffrences between actual sales price and predicted\n",
        "dataset_dc['diff']=(dataset_dc['Real']-dataset_dc['PredictedDC']).abs()\n"
      ],
      "metadata": {
        "id": "mEZkxxqek9cT"
      },
      "execution_count": null,
      "outputs": []
    },
    {
      "cell_type": "code",
      "source": [
        "#visualising our predictions\n",
        "sns.lmplot(x='Real', y='PredictedDC', data=dataset_dc, line_kws={'color': 'black'});\n"
      ],
      "metadata": {
        "id": "WuzkJro3lDGw"
      },
      "execution_count": null,
      "outputs": []
    },
    {
      "cell_type": "markdown",
      "source": [
        "## **4. Support Vector Regression** "
      ],
      "metadata": {
        "id": "o-wuHAmglrH3"
      }
    },
    {
      "cell_type": "code",
      "source": [
        "#%%time\n",
        "#from sklearn.svm import SVR\n",
        "#svr=SVR()\n",
        "#svr_reg=svr.fit(X_train,y_train)\n",
        "#svr\n"
      ],
      "metadata": {
        "id": "UYWtW4ujlor2"
      },
      "execution_count": null,
      "outputs": []
    },
    {
      "cell_type": "code",
      "source": [
        "#print(\"Regresion Model Score\" , \":\" , svr_reg.score(X_train, y_train) , \",\" ,\n",
        "#      \"Out of Sample Test Score\" ,\":\" , svr_reg.score(X_test, y_test))\n",
        "\n",
        "#y_predicted = svr_reg.predict(X_train)\n",
        "#y_test_predicted = svr_reg.predict(X_test)\n",
        "\n",
        "#print(\"Training RMSE\", \":\", rmse(y_train, y_predicted),\n",
        "#      \"Testing RMSE\", \":\", rmse(y_test, y_test_predicted))\n",
        "#print(\"Training MAPE\", \":\", mape(y_train, y_predicted),\n",
        "#      \"Testing MAPE\", \":\", mape(y_test, y_test_predicted))\n"
      ],
      "metadata": {
        "id": "PiVXP3ZZl1lj"
      },
      "execution_count": null,
      "outputs": []
    },
    {
      "cell_type": "markdown",
      "source": [
        "## **5. K-Nearest Neighbors Regression**"
      ],
      "metadata": {
        "id": "7KaVVuw2l8j8"
      }
    },
    {
      "cell_type": "code",
      "source": [
        "from sklearn.neighbors import KNeighborsRegressor\n",
        "knn = KNeighborsRegressor(n_neighbors = 30)\n",
        "knnreg = knn.fit(X_train, y_train)\n"
      ],
      "metadata": {
        "id": "sc4zIf7kl6Jh"
      },
      "execution_count": null,
      "outputs": []
    },
    {
      "cell_type": "code",
      "source": [
        "print(\"Regresion Model Score\" , \":\" , knnreg.score(X_train, y_train) , \",\" ,\n",
        "      \"Out of Sample Test Score\" ,\":\" , knnreg.score(X_test, y_test))\n",
        "\n",
        "y_predicted = knnreg.predict(X_train)\n",
        "y_test_predicted = knnreg.predict(X_test)\n",
        "\n",
        "print(\"Training RMSE\", \":\", rmse(y_train, y_predicted),\n",
        "      \"Testing RMSE\", \":\", rmse(y_test, y_test_predicted))\n",
        "print(\"Training MAPE\", \":\", mape(y_train, y_predicted),\n",
        "      \"Testing MAPE\", \":\", mape(y_test, y_test_predicted))\n"
      ],
      "metadata": {
        "id": "R4wUP0D0l569"
      },
      "execution_count": null,
      "outputs": []
    },
    {
      "cell_type": "markdown",
      "source": [
        "## **6. Random Forest With Hyper Parameter Tuning**"
      ],
      "metadata": {
        "id": "eDd_knktmJEd"
      }
    },
    {
      "cell_type": "code",
      "source": [
        "# #another script that takes toooo long, to find the right parameters for RFR\n",
        "# rfr=RandomForestRegressor(n_jobs=-1)\n",
        "\n",
        "# params = {\n",
        "#          'n_estimators':[40,50,60,70,80,90],\n",
        "#          'min_samples_split':[2,3,6,8],\n",
        "#          'min_samples_leaf':[1,2,3,4],\n",
        "#          'max_depth':[None,5,15,30]\n",
        "#          }\n",
        "\n",
        "# #the dimensionality is high, the number of combinations we have to search is enormous, using RandomizedSearchCV is a better option then GridSearchCV\n",
        "# grid = RandomizedSearchCV(estimator=rfr,param_distributions=params,verbose=True,cv=10)\n",
        "\n",
        "# #choosing 10 K-Folds makes sure i went through all of the data and didn't miss any pattern.\n",
        "# grid.fit(X_train, y_train)\n",
        "# grid.best_params_"
      ],
      "metadata": {
        "id": "M1ukJiDsmGjM"
      },
      "execution_count": null,
      "outputs": []
    },
    {
      "cell_type": "markdown",
      "source": [
        "**I trained Model with hyper parameters..to not run everytime i record the result**\n",
        "\n",
        "**Here are our best parameters for Random Forest**\n",
        "\n",
        "**{ n_estimators=80,min_samples_split=2,min_samples_leaf=1,max_depth=None }**"
      ],
      "metadata": {
        "id": "u2Mma16Smhrp"
      }
    },
    {
      "cell_type": "code",
      "source": [
        "#%%time\n",
        "rdf = RandomForestRegressor(n_estimators=80,min_samples_split=2, min_samples_leaf=1,max_depth=None,n_jobs=-1)\n",
        "rdfreg = rdf.fit(X_train, y_train)\n"
      ],
      "metadata": {
        "id": "7xrXOMSemGfw"
      },
      "execution_count": null,
      "outputs": []
    },
    {
      "cell_type": "code",
      "source": [
        "train_score_5=rdfreg.score(X_train, y_train)\n",
        "test_score_5=rdfreg.score(X_test, y_test)\n",
        "\n",
        "print(\"Regresion Model Score\" , \":\" , train_score_5 , \",\" ,\n",
        "      \"Test Score\" ,\":\" , test_score_5)   \n",
        "\n",
        "y_predicted_2 = rdfreg.predict(X_train)\n",
        "y_test_predicted_2 = rdfreg.predict(X_test)\n",
        "\n",
        "print(\"Training RMSE\", \":\", rmse(y_train, y_predicted_2),\n",
        "      \"Testing RMSE\", \":\", rmse(y_test, y_test_predicted_2))\n",
        "print(\"Training MAPE\", \":\", mape(y_train, y_predicted_2),\n",
        "      \"Testing MAPE\", \":\", mape(y_test, y_test_predicted_2))\n"
      ],
      "metadata": {
        "id": "RHeWOH4lnYvo"
      },
      "execution_count": null,
      "outputs": []
    },
    {
      "cell_type": "code",
      "source": [
        "y_test_predicted_2\n"
      ],
      "metadata": {
        "id": "L446WKranb_f"
      },
      "execution_count": null,
      "outputs": []
    },
    {
      "cell_type": "code",
      "source": [
        "#storing 100 observations for analysis\n",
        "rf_prd = y_test_predicted_2[:100]\n",
        "rf_real = y_test[:100]\n",
        "dataset_rf = pd.DataFrame({'Real':rf_real,'PredictedRF':rf_prd})\n"
      ],
      "metadata": {
        "id": "WuzaDSaonb8I"
      },
      "execution_count": null,
      "outputs": []
    },
    {
      "cell_type": "code",
      "source": [
        "#storing absolute diffrences between actual sales price and predicted\n",
        "dataset_rf['diff']=(dataset_rf['Real']-dataset_rf['PredictedRF']).abs()\n"
      ],
      "metadata": {
        "id": "5toRaRCInb1k"
      },
      "execution_count": null,
      "outputs": []
    },
    {
      "cell_type": "code",
      "source": [
        " # taking 4 sample\n",
        "dataset_rf.sample(4)\n"
      ],
      "metadata": {
        "id": "UUVdmaWcniS4"
      },
      "execution_count": null,
      "outputs": []
    },
    {
      "cell_type": "code",
      "source": [
        "#Statistical description of our predictions and actual values \n",
        "dataset_rf.describe()\n"
      ],
      "metadata": {
        "id": "uebIEVw2nlF0"
      },
      "execution_count": null,
      "outputs": []
    },
    {
      "cell_type": "code",
      "source": [
        "#plotting the actual,predicted & difference of SALES\n",
        "plt.style.use('seaborn')\n",
        "dataset_rf.plot.hist(subplots=True, legend=False);\n"
      ],
      "metadata": {
        "id": "uVdpHLl1noI5"
      },
      "execution_count": null,
      "outputs": []
    },
    {
      "cell_type": "markdown",
      "source": [
        "**As we can see that Actual, Prediction values are approximately closed to each other and there is no such significant variation in our plots.**"
      ],
      "metadata": {
        "id": "EZnKXo3rnt7p"
      }
    },
    {
      "cell_type": "code",
      "source": [
        "# Assuming a DataFrame called dataset_rf with columns 'Real' and 'PredictedRF'\n",
        "\n",
        "sns.lmplot(x='Real', y='PredictedRF', data=dataset_rf, line_kws={'color': 'red'}, height=6, aspect=1)\n",
        "\n"
      ],
      "metadata": {
        "id": "lwn7Q17gnoFe"
      },
      "execution_count": null,
      "outputs": []
    },
    {
      "cell_type": "markdown",
      "source": [
        "# **Feature Importance On Random Forest Regressor**"
      ],
      "metadata": {
        "id": "lmVwVFPGn2cO"
      }
    },
    {
      "cell_type": "markdown",
      "source": [
        "As we can see that Random Forest has the highest test score\n",
        "\n"
      ],
      "metadata": {
        "id": "pzTl0kxDn9rD"
      }
    },
    {
      "cell_type": "code",
      "source": [
        "def plot_feature_importance(importance,names,model_type):\n",
        "\n",
        "  #Create arrays from feature importance and feature names\n",
        "  feature_importance = np.array(importance)\n",
        "  feature_names = np.array(names)\n",
        "\n",
        "  #Create a DataFrame using a Dictionary\n",
        "  data={'feature_names':feature_names,'feature_importance':feature_importance}\n",
        "  fi_df = pd.DataFrame(data)\n",
        "\n",
        "  #Sort the DataFrame in order decreasing feature importance\n",
        "  fi_df.sort_values(by=['feature_importance'], ascending=False,inplace=True)\n",
        "\n",
        "  #Define size of bar plot\n",
        "  plt.figure(figsize=(10,8))\n",
        "  #Plot Searborn bar chart\n",
        "  sns.barplot(x=fi_df['feature_importance'], y=fi_df['feature_names'])\n",
        "  #Add chart labels\n",
        "  plt.title(model_type + ' FEATURE IMPORTANCE')\n",
        "  plt.xlabel('FEATURE IMPORTANCE')\n",
        "  plt.ylabel('FEATURE NAMES')\n"
      ],
      "metadata": {
        "id": "H3mwNYhcnzyr"
      },
      "execution_count": null,
      "outputs": []
    },
    {
      "cell_type": "code",
      "source": [
        "plot_feature_importance(rdfreg.feature_importances_,columns[:],'RANDOM FOREST')\n"
      ],
      "metadata": {
        "id": "_av3T4-YnzoN"
      },
      "execution_count": null,
      "outputs": []
    },
    {
      "cell_type": "markdown",
      "source": [
        "**Customers, CompetitionDistance, StoreType_d, Promo these four are most important features in our sales prediction.**"
      ],
      "metadata": {
        "id": "BFfxpXcgoIww"
      }
    },
    {
      "cell_type": "code",
      "source": [
        "score_df = pd.DataFrame({'Train_Score':[train_score_1,train_score_2,train_score_3,train_score_4,train_score_5],'Test_Score':[test_score_1,test_score_2,test_score_3,test_score_4,test_score_5]},index=['Linear Regression','Lasso Regression','Decision Tree',\"Decision Tree(hyperparameters)\",'Random Forest Regression'])\n"
      ],
      "metadata": {
        "id": "OdMScjd4oFfu"
      },
      "execution_count": null,
      "outputs": []
    },
    {
      "cell_type": "markdown",
      "source": [
        "# **Conclusion**"
      ],
      "metadata": {
        "id": "jW77YbvAoP0K"
      }
    },
    {
      "cell_type": "code",
      "source": [
        "score_df\n"
      ],
      "metadata": {
        "id": "SZ6fVhuCoFcY"
      },
      "execution_count": null,
      "outputs": []
    },
    {
      "cell_type": "markdown",
      "source": [
        "**Random Forest regressor achieved lowest MAPE as 5.65% showing that it is a highly accurate model. MAE is the average magnitude of error produced by your model, the MAPE is how far the model’s predictions are off from their corresponding outputs on averagendIXERr.jpg**\n",
        "\n"
      ],
      "metadata": {
        "id": "kNeumT-Momp2"
      }
    },
    {
      "cell_type": "markdown",
      "source": [
        "![Linear reg project img.jpg](data:image/jpeg;base64,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)"
      ],
      "metadata": {
        "id": "UKuTWu1lzqNR"
      }
    },
    {
      "cell_type": "markdown",
      "source": [
        "### ***Hurrah! I have successfully completed My Machine Learning (Linear Regression) Capstone Project 2 !!!***"
      ],
      "metadata": {
        "id": "gIfDvo9L0UH2"
      }
    }
  ]
}